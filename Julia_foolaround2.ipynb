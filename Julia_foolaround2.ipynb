# %% codecell
range(100, 110,length = 11) |> collect

# %% codecell
for i in range(-1,110, step = 10.23)
    print(i," ")
end
# %% codecell
for i in range(1,20, step = 1) println(i," squared:",i^2,  " cubed:", i^3) end
# %% codecell
