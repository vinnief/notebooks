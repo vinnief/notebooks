{
 "cells": [
  {
   "cell_type": "code",
   "execution_count": 1,
   "metadata": {},
   "outputs": [
    {
     "data": {
      "text/plain": [
       "11-element Array{Float64,1}:\n",
       " 100.0\n",
       " 101.0\n",
       " 102.0\n",
       " 103.0\n",
       " 104.0\n",
       " 105.0\n",
       " 106.0\n",
       " 107.0\n",
       " 108.0\n",
       " 109.0\n",
       " 110.0"
      ]
     },
     "execution_count": 1,
     "metadata": {},
     "output_type": "execute_result"
    }
   ],
   "source": [
    "range(100, 110,length = 11) |> collect\n"
   ]
  },
  {
   "cell_type": "code",
   "execution_count": 2,
   "metadata": {},
   "outputs": [
    {
     "name": "stdout",
     "output_type": "stream",
     "text": [
      "-1.0 9.23 19.46 29.69 39.92 50.15 60.38 70.61 80.84 91.07 101.3 "
     ]
    }
   ],
   "source": [
    "for i in range(-1,110, step = 10.23)\n",
    "    print(i,\" \")\n",
    "end"
   ]
  },
  {
   "cell_type": "code",
   "execution_count": 3,
   "metadata": {},
   "outputs": [
    {
     "name": "stdout",
     "output_type": "stream",
     "text": [
      "1 squared:1 cubed:1\n",
      "2 squared:4 cubed:8\n",
      "3 squared:9 cubed:27\n",
      "4 squared:16 cubed:64\n",
      "5 squared:25 cubed:125\n",
      "6 squared:36 cubed:216\n",
      "7 squared:49 cubed:343\n",
      "8 squared:64 cubed:512\n",
      "9 squared:81 cubed:729\n",
      "10 squared:100 cubed:1000\n",
      "11 squared:121 cubed:1331\n",
      "12 squared:144 cubed:1728\n",
      "13 squared:169 cubed:2197\n",
      "14 squared:196 cubed:2744\n",
      "15 squared:225 cubed:3375\n",
      "16 squared:256 cubed:4096\n",
      "17 squared:289 cubed:4913\n",
      "18 squared:324 cubed:5832\n",
      "19 squared:361 cubed:6859\n",
      "20 squared:400 cubed:8000\n"
     ]
    }
   ],
   "source": [
    "for i in range(1,20, step = 1) println(i,\" squared:\",i^2,  \" cubed:\", i^3) end"
   ]
  },
  {
   "cell_type": "markdown",
   "metadata": {},
   "source": [
    "https://juliaobserver.com/packages/Interact"
   ]
  },
  {
   "cell_type": "code",
   "execution_count": 8,
   "metadata": {},
   "outputs": [
    {
     "ename": "ErrorException",
     "evalue": "Invalid dependency (must be a url, file, or AssetRegistry path): C:\\Users\\feltkamp\\.julia\\packages\\Knockout\\IP1uR\\src\\..\\assets\\knockout.js",
     "output_type": "error",
     "traceback": [
      "Invalid dependency (must be a url, file, or AssetRegistry path): C:\\Users\\feltkamp\\.julia\\packages\\Knockout\\IP1uR\\src\\..\\assets\\knockout.js",
      "",
      "Stacktrace:",
      " [1] error(::String) at .\\error.jl:33",
      " [2] path2url(::SubString{String}) at C:\\Users\\feltkamp\\.julia\\packages\\WebIO\\nTMDV\\src\\asset.jl:209",
      " [3] dep2url(::String) at C:\\Users\\feltkamp\\.julia\\packages\\WebIO\\nTMDV\\src\\asset.jl:226",
      " [4] lower(::Asset) at C:\\Users\\feltkamp\\.julia\\packages\\WebIO\\nTMDV\\src\\asset.jl:51",
      " [5] lowerassets(::Asset) at C:\\Users\\feltkamp\\.julia\\packages\\WebIO\\nTMDV\\src\\asset.jl:118",
      " [6] iterate at .\\generator.jl:47 [inlined]",
      " [7] _collect(::Array{Any,1}, ::Base.Generator{Array{Any,1},typeof(WebIO.lowerassets)}, ::Base.EltypeUnknown, ::Base.HasShape{1}) at .\\array.jl:678",
      " [8] collect_similar(::Array{Any,1}, ::Base.Generator{Array{Any,1},typeof(WebIO.lowerassets)}) at .\\array.jl:607",
      " [9] map(::Function, ::Array{Any,1}) at .\\abstractarray.jl:2072",
      " [10] lowerassets(::Async) at C:\\Users\\feltkamp\\.julia\\packages\\WebIO\\nTMDV\\src\\asset.jl:119",
      " [11] (::WebIO.var\"#23#24\"{Async})(::Base.GenericIOBuffer{Array{UInt8,1}}) at C:\\Users\\feltkamp\\.julia\\packages\\WebIO\\nTMDV\\src\\syntax.jl:221",
      " [12] sprint(::Function; context::Nothing, sizehint::Int64) at .\\strings\\io.jl:105",
      " [13] sprint at .\\strings\\io.jl:101 [inlined]",
      " [14] tojs at C:\\Users\\feltkamp\\.julia\\packages\\WebIO\\nTMDV\\src\\asset.jl:112 [inlined]",
      " [15] (::WebIO.var\"#42#43\"{Scope,WebIO.JSString})(::Base.GenericIOBuffer{Array{UInt8,1}}) at C:\\Users\\feltkamp\\.julia\\packages\\WebIO\\nTMDV\\src\\syntax.jl:221",
      " [16] sprint(::Function; context::Nothing, sizehint::Int64) at .\\strings\\io.jl:105",
      " [17] sprint at .\\strings\\io.jl:101 [inlined]",
      " [18] onimport at C:\\Users\\feltkamp\\.julia\\packages\\WebIO\\nTMDV\\src\\scope.jl:313 [inlined]",
      " [19] knockout(::Node{WebIO.DOM}, ::Array{Pair{String,Any},1}, ::WebIO.JSString; computed::Array{Pair{String,WebIO.JSString},1}, methods::Array{Any,1}) at C:\\Users\\feltkamp\\.julia\\packages\\Knockout\\IP1uR\\src\\Knockout.jl:124",
      " [20] input(::Interact.Bulma, ::Observable{Any}; extra_js::WebIO.JSString, extra_obs::Array{Pair{String,Array{String,1}},1}, label::Nothing, typ::String, wdgtyp::String, className::String, style::Dict{Any,Any}, isnumeric::Bool, computed::Array{Pair{String,WebIO.JSString},1}, attributes::Dict{Any,Any}, bind::String, bindto::String, valueUpdate::String, changes::Int64, kwargs::Base.Iterators.Pairs{Symbol,Int64,Tuple{Symbol,Symbol,Symbol},NamedTuple{(:min, :max, :step),Tuple{Int64,Int64,Int64}}}) at C:\\Users\\feltkamp\\.julia\\packages\\InteractBase\\sOe2Z\\src\\input.jl:259",
      " [21] input(::Observable{Any}; kwargs::Base.Iterators.Pairs{Symbol,Any,NTuple{9,Symbol},NamedTuple{(:bindto, :attributes, :extra_obs, :computed, :typ, :min, :max, :step, :className),Tuple{String,Dict{Any,Any},Array{Pair{String,Array{String,1}},1},Array{Pair{String,WebIO.JSString},1},String,Int64,Int64,Int64,String}}}) at C:\\Users\\feltkamp\\.julia\\packages\\Widgets\\451tD\\src\\defaults.jl:10",
      " [22] slider(::Interact.Bulma, ::Base.OneTo{Int64}, ::Array{String,1}; className::String, readout::Bool, label::String, value::Observable{Any}, orientation::String, attributes::Dict{Any,Any}, kwargs::Base.Iterators.Pairs{Union{},Union{},Tuple{},NamedTuple{(),Tuple{}}}) at C:\\Users\\feltkamp\\.julia\\packages\\InteractBase\\sOe2Z\\src\\slider.jl:58",
      " [23] slider(::Interact.Bulma, ::StepRangeLen{Float64,Base.TwicePrecision{Float64},Base.TwicePrecision{Float64}}, ::Array{String,1}; value::Float64, kwargs::Base.Iterators.Pairs{Symbol,String,Tuple{Symbol},NamedTuple{(:label,),Tuple{String}}}) at C:\\Users\\feltkamp\\.julia\\packages\\InteractBase\\sOe2Z\\src\\slider.jl:28",
      " [24] slider(::StepRangeLen{Float64,Base.TwicePrecision{Float64},Base.TwicePrecision{Float64}}; kwargs::Base.Iterators.Pairs{Symbol,String,Tuple{Symbol},NamedTuple{(:label,),Tuple{String}}}) at C:\\Users\\feltkamp\\.julia\\packages\\Widgets\\451tD\\src\\defaults.jl:10",
      " [25] #widget#104 at C:\\Users\\feltkamp\\.julia\\packages\\Widgets\\451tD\\src\\defaults.jl:56 [inlined]",
      " [26] top-level scope at In[8]:1"
     ]
    }
   ],
   "source": [
    "#from https://juliaobserver.com/packages/Interact\n",
    "using WebIO, Interact\n",
    "px=widget(0:0.01:.3, label=\"px\")\n",
    "py=widget(0:0.01:.3, label=\"py\")\n",
    "plane = widget(Dict(\"x=0\" => 1, \"y=0\" => 2), label=\"Section plane\");\n",
    "#Then you can use map over the widgets to create new interactive output that depends on these widgets!\n",
    "interactive_plot = map(plotsos, px, py, plane)\n",
    "#And put them all together into a nice little layout:\n",
    "# stack vertically\n",
    "vbox(\n",
    "    hbox(px, py, plane), # stack horizontally\n",
    "    interactive_plot)"
   ]
  }
 ],
 "metadata": {
  "kernelspec": {
   "display_name": "Julia 1.4.2",
   "language": "julia",
   "name": "julia-1.4"
  },
  "language_info": {
   "file_extension": ".jl",
   "mimetype": "application/julia",
   "name": "julia",
   "version": "1.4.2"
  }
 },
 "nbformat": 4,
 "nbformat_minor": 4
}
