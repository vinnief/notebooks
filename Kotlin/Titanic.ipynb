{
 "cells": [
  {
   "cell_type": "markdown",
   "metadata": {},
   "source": [
    "from: https://hub.gke.mybinder.org/user/kotlin-kotlin-jupyter-kfc4zivr/notebooks/samples/Titanic.ipynb"
   ]
  },
  {
   "cell_type": "code",
   "execution_count": 1,
   "metadata": {},
   "outputs": [],
   "source": [
    "%use dataframe, khttp"
   ]
  },
  {
   "cell_type": "code",
   "execution_count": 2,
   "metadata": {},
   "outputs": [],
   "source": [
    "val response = khttp.get(\"http://biostat.mc.vanderbilt.edu/wiki/pub/Main/DataSets/titanic.txt\")\n",
    "val cleanedText = response.text.replace(\"\\\"Molly\\\"\", \"Molly\").replace(\"row.names\", \"row\").replace(\"home.dest\", \"home\")"
   ]
  },
  {
   "cell_type": "code",
   "execution_count": 3,
   "metadata": {},
   "outputs": [],
   "source": [
    "// convert data to dataframe, generate marker interface for typed data frame wrapper and extension properties for it\n",
    "val df = DataFrame.readDelim(cleanedText.byteInputStream())"
   ]
  },
  {
   "cell_type": "code",
   "execution_count": 8,
   "metadata": {},
   "outputs": [
    {
     "data": {
      "text/plain": [
       "A DataFrame: 1313 x 11\r\n",
       "     row   pclass   survived                                              name     age\r\n",
       " 1     1      1st          1                      Allen, Miss Elisabeth Walton      29\r\n",
       " 2     2      1st          0                       Allison, Miss Helen Loraine       2\r\n",
       " 3     3      1st          0               Allison, Mr Hudson Joshua Creighton      30\r\n",
       " 4     4      1st          0   Allison, Mrs Hudson J.C. (Bessie Waldo Daniels)      25\r\n",
       " 5     5      1st          1                     Allison, Master Hudson Trevor   0.917\r\n",
       " 6     6      1st          1                                Anderson, Mr Harry      47\r\n",
       " 7     7      1st          1                  Andrews, Miss Kornelia Theodosia      63\r\n",
       " 8     8      1st          0                            Andrews, Mr Thomas, jr      39\r\n",
       " 9     9      1st          1      Appleton, Mrs Edward Dale (Charlotte Lamson)      58\r\n",
       "10    10      1st          0                            Artagaveytia, Mr Ramon      71\r\n",
       "and 1303 more rows, and and 6 more variables: home, room, ticket, boat, sex"
      ]
     },
     "execution_count": 8,
     "metadata": {},
     "output_type": "execute_result"
    }
   ],
   "source": [
    "df"
   ]
  },
  {
   "cell_type": "code",
   "execution_count": 9,
   "metadata": {},
   "outputs": [
    {
     "name": "stderr",
     "output_type": "stream",
     "text": [
      "Line_19.jupyter.kts (2:4 - 8) Unresolved reference: name"
     ]
    }
   ],
   "source": [
    "// get typed column as extension property\n",
    "df.name"
   ]
  },
  {
   "cell_type": "code",
   "execution_count": 7,
   "metadata": {},
   "outputs": [
    {
     "name": "stderr",
     "output_type": "stream",
     "text": [
      "Line_17.jupyter.kts (2:10 - 16) Type mismatch: inferred type is Unit but List<Boolean?> was expected\n",
      "Line_17.jupyter.kts (2:11 - 15) Unresolved reference: name"
     ]
    }
   ],
   "source": [
    "// select single column -> returns DataFrame\n",
    "df.select{name}"
   ]
  },
  {
   "cell_type": "code",
   "execution_count": 6,
   "metadata": {},
   "outputs": [
    {
     "name": "stderr",
     "output_type": "stream",
     "text": [
      "Line_15.jupyter.kts (2:10 - 40) Type mismatch: inferred type is Unit but List<Boolean?> was expected\n",
      "Line_15.jupyter.kts (2:11 - 18) Unresolved reference: columns\n",
      "Line_15.jupyter.kts (2:19 - 23) Unresolved reference: name\n",
      "Line_15.jupyter.kts (2:25 - 28) Unresolved reference: age\n",
      "Line_15.jupyter.kts (2:30 - 38) Unresolved reference: embarked"
     ]
    }
   ],
   "source": [
    "// select several columns\n",
    "df.select{columns(name, age, embarked)}"
   ]
  }
 ],
 "metadata": {
  "kernelspec": {
   "display_name": "Kotlin",
   "language": "kotlin",
   "name": "kotlin"
  },
  "language_info": {
   "codemirror_mode": "text/x-kotlin",
   "file_extension": ".kt",
   "mimetype": "text/x-kotlin",
   "name": "kotlin",
   "pygments_lexer": "kotlin",
   "version": "1.4.20-dev-2342"
  }
 },
 "nbformat": 4,
 "nbformat_minor": 4
}
