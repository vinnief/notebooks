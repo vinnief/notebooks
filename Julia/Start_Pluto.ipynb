{
 "cells": [
  {
   "cell_type": "code",
   "execution_count": 2,
   "metadata": {},
   "outputs": [
    {
     "name": "stderr",
     "output_type": "stream",
     "text": [
      "\u001b[32m\u001b[1m   Updating\u001b[22m\u001b[39m registry at `C:\\Users\\feltkamp\\.julia\\registries\\General`"
     ]
    },
    {
     "name": "stdout",
     "output_type": "stream",
     "text": [
      "\u001b[?25l"
     ]
    },
    {
     "name": "stderr",
     "output_type": "stream",
     "text": [
      "\n",
      "\u001b[32m\u001b[1m   Updating\u001b[22m\u001b[39m git-repo `https://github.com/JuliaRegistries/General`\n"
     ]
    },
    {
     "name": "stdout",
     "output_type": "stream",
     "text": [
      "\u001b[2K\u001b[36m\u001b[1mFetching:\u001b[22m\u001b[39m [========================================>]  99.9 %[==>                                      ]  2.7 %\u001b[36m\u001b[1mFetching:\u001b[22m\u001b[39m [==>                                      ]  4.9 %\u001b[36m\u001b[1mFetching:\u001b[22m\u001b[39m [===>                                     ]  5.8 %.8 %====>                                    ]  8.4 % [====>                                    ]  9.4 %.6 % % %]  12.7 %>                                 ]  16.2 %19.1 %0 %>                             ]  26.3 %1 % %.7 %]  30.3 %\u001b[36m\u001b[1mFetching:\u001b[22m\u001b[39m [=============>                           ]  30.9 % %>                          ]  32.8 %34.2 %35.8 %                         ]  37.2 %.4 % % %==================>                      ]  42.7 % [==================>                      ]  43.4 %===================>                     ]  47.1 %]  49.2 %\u001b[36m\u001b[1mFetching:\u001b[22m\u001b[39m [=======================>                 ]  55.5 %]  55.7 %=======================>                 ]  56.5 %4 %]  62.0 %64.2 %\u001b[36m\u001b[1mFetching:\u001b[22m\u001b[39m [===========================>             ]  65.2 %>             ]  66.4 %             ]  67.3 %============================>            ]  67.9 % [============================>            ]  68.7 % [=============================>           ]  72.2 % %]  75.0 %75.3 %.9 % [===============================>         ]  77.0 %]  78.0 %]  78.1 %78.4 %================================>        ]  79.0 %]  80.2 %]  81.8 %\u001b[36m\u001b[1mFetching:\u001b[22m\u001b[39m [==================================>      ]  82.9 %==================================>      ]  83.2 %83.7 %2 %===================================>     ]  85.6 % %]  87.0 %8 %    ]  89.0 % % [=====================================>   ]  92.4 %\u001b[36m\u001b[1mFetching:\u001b[22m\u001b[39m [======================================>  ]  93.6 %\u001b[36m\u001b[1mFetching:\u001b[22m\u001b[39m [======================================>  ]  94.1 %>  ]  94.7 % [=======================================> ]  95.8 %> ]  97.3 %>]  97.6 %\u001b[?25h"
     ]
    },
    {
     "name": "stderr",
     "output_type": "stream",
     "text": [
      "\u001b[32m\u001b[1m  Resolving\u001b[22m\u001b[39m package versions...\n",
      "\u001b[32m\u001b[1m  Installed\u001b[22m\u001b[39m MsgPack ─ v1.1.0\n",
      "\u001b[32m\u001b[1m  Installed\u001b[22m\u001b[39m Pluto ─── v0.11.6\n",
      "\u001b[32m\u001b[1m   Updating\u001b[22m\u001b[39m `C:\\Users\\feltkamp\\.julia\\environments\\v1.4\\Project.toml`\n",
      " \u001b[90m [c3e4b0f8]\u001b[39m\u001b[92m + Pluto v0.11.6\u001b[39m\n",
      "\u001b[32m\u001b[1m   Updating\u001b[22m\u001b[39m `C:\\Users\\feltkamp\\.julia\\environments\\v1.4\\Manifest.toml`\n",
      " \u001b[90m [cd3eb016]\u001b[39m\u001b[92m + HTTP v0.8.17\u001b[39m\n",
      " \u001b[90m [83e8ac13]\u001b[39m\u001b[92m + IniFile v0.5.0\u001b[39m\n",
      " \u001b[90m [99f44e22]\u001b[39m\u001b[92m + MsgPack v1.1.0\u001b[39m\n",
      " \u001b[90m [c3e4b0f8]\u001b[39m\u001b[92m + Pluto v0.11.6\u001b[39m\n",
      "┌ Info: Precompiling Pluto [c3e4b0f8-55cb-11ea-2926-15256bba5781]\n",
      "└ @ Base loading.jl:1260\n",
      "┌ Info: \n",
      "│     Welcome to Pluto v0.11.6 🎈\n",
      "│     Start a notebook server using:\n",
      "│ \n",
      "│   julia> Pluto.run()\n",
      "│ \n",
      "│     Have a look at the FAQ:\n",
      "│     https://github.com/fonsp/Pluto.jl/wiki\n",
      "└ \n"
     ]
    }
   ],
   "source": [
    "import Pkg; Pkg.add(\"Pluto\")\n",
    "using Pluto"
   ]
  },
  {
   "cell_type": "code",
   "execution_count": null,
   "metadata": {},
   "outputs": [
    {
     "name": "stdout",
     "output_type": "stream",
     "text": [
      "Go to http://localhost:1234/ to start writing ~ have fun!\n",
      "\n",
      "Press Ctrl+C in this terminal to stop Pluto\n",
      "\n"
     ]
    }
   ],
   "source": [
    "Pluto.run()\n"
   ]
  }
 ],
 "metadata": {
  "kernelspec": {
   "display_name": "Julia 1.4.2",
   "language": "julia",
   "name": "julia-1.4"
  },
  "language_info": {
   "file_extension": ".jl",
   "mimetype": "application/julia",
   "name": "julia",
   "version": "1.4.2"
  }
 },
 "nbformat": 4,
 "nbformat_minor": 4
}
