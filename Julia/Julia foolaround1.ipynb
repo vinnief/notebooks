{
 "cells": [
  {
   "cell_type": "code",
   "execution_count": 15,
   "metadata": {},
   "outputs": [
    {
     "name": "stdout",
     "output_type": "stream",
     "text": [
      "d:\\gits"
     ]
    }
   ],
   "source": [
    "print(pwd()) #look at the current work dir"
   ]
  },
  {
   "cell_type": "code",
   "execution_count": 13,
   "metadata": {},
   "outputs": [
    {
     "name": "stdout",
     "output_type": "stream",
     "text": [
      "pwd"
     ]
    }
   ],
   "source": [
    "range(100, 110,length = 11) |> collect"
   ]
  },
  {
   "cell_type": "code",
   "execution_count": 2,
   "metadata": {},
   "outputs": [
    {
     "name": "stdout",
     "output_type": "stream",
     "text": [
      "-1.0 9.23 19.46 29.69 39.92 50.15 60.38 70.61 80.84 91.07 101.3 "
     ]
    }
   ],
   "source": [
    "for i in range(-1,110, step = 10.23)\n",
    "    print(i,\" \")\n",
    "end"
   ]
  },
  {
   "cell_type": "code",
   "execution_count": 3,
   "metadata": {},
   "outputs": [
    {
     "name": "stdout",
     "output_type": "stream",
     "text": [
      "1 squared:1 cubed:1\n",
      "2 squared:4 cubed:8\n",
      "3 squared:9 cubed:27\n",
      "4 squared:16 cubed:64\n",
      "5 squared:25 cubed:125\n",
      "6 squared:36 cubed:216\n",
      "7 squared:49 cubed:343\n",
      "8 squared:64 cubed:512\n",
      "9 squared:81 cubed:729\n",
      "10 squared:100 cubed:1000\n",
      "11 squared:121 cubed:1331\n",
      "12 squared:144 cubed:1728\n",
      "13 squared:169 cubed:2197\n",
      "14 squared:196 cubed:2744\n",
      "15 squared:225 cubed:3375\n",
      "16 squared:256 cubed:4096\n",
      "17 squared:289 cubed:4913\n",
      "18 squared:324 cubed:5832\n",
      "19 squared:361 cubed:6859\n",
      "20 squared:400 cubed:8000\n"
     ]
    }
   ],
   "source": [
    "for i in range(1,20, step = 1) println(i,\" squared:\",i^2,  \" cubed:\", i^3) end"
   ]
  },
  {
   "cell_type": "markdown",
   "metadata": {},
   "source": [
    "https://juliaobserver.com/packages/Interact"
   ]
  },
  {
   "cell_type": "code",
   "execution_count": null,
   "metadata": {},
   "outputs": [],
   "source": [
    "#from https://juliaobserver.com/packages/Interact\n",
    "using WebIO, Interact\n",
    "px=widget(0:0.01:.3, label=\"px\")\n",
    "py=widget(0:0.01:.3, label=\"py\")\n",
    "plane = widget(Dict(\"x=0\" => 1, \"y=0\" => 2), label=\"Section plane\");\n",
    "#Then you can use map over the widgets to create new interactive output that depends on these widgets!\n",
    "interactive_plot = map(plotsos, px, py, plane)\n",
    "#And put them all together into a nice little layout:\n",
    "# stack vertically\n",
    "vbox(\n",
    "    hbox(px, py, plane), # stack horizontally\n",
    "    interactive_plot)"
   ]
  },
  {
   "cell_type": "code",
   "execution_count": 3,
   "metadata": {},
   "outputs": [],
   "source": [
    "using Pkg\n",
    "#Pkg.add(\"Plots\") #does not work in julia pro jupyter. reason: Atom version "
   ]
  },
  {
   "cell_type": "code",
   "execution_count": 3,
   "metadata": {},
   "outputs": [
    {
     "ename": "ArgumentError",
     "evalue": "ArgumentError: Package Plots not found in current path:\n- Run `import Pkg; Pkg.add(\"Plots\")` to install the Plots package.\n",
     "output_type": "error",
     "traceback": [
      "ArgumentError: Package Plots not found in current path:\n- Run `import Pkg; Pkg.add(\"Plots\")` to install the Plots package.\n",
      "",
      "Stacktrace:",
      " [1] require(::Module, ::Symbol) at .\\loading.jl:893",
      " [2] top-level scope at In[3]:1"
     ]
    }
   ],
   "source": [
    "using Plots"
   ]
  },
  {
   "cell_type": "code",
   "execution_count": 8,
   "metadata": {},
   "outputs": [
    {
     "ename": "ArgumentError",
     "evalue": "ArgumentError: Package plots not found in current path:\n- Run `import Pkg; Pkg.add(\"plots\")` to install the plots package.\n",
     "output_type": "error",
     "traceback": [
      "ArgumentError: Package plots not found in current path:\n- Run `import Pkg; Pkg.add(\"plots\")` to install the plots package.\n",
      "",
      "Stacktrace:",
      " [1] require(::Module, ::Symbol) at .\\loading.jl:893",
      " [2] top-level scope at In[8]:1"
     ]
    }
   ],
   "source": [
    "t = [1:100]\n",
    "p = 2\n",
    "f = x-> sin(p*x)\n",
    "y= f.(t)*sin.(2pi*t)\n",
    "y= f.(t)*sin.(2pi*t)\n",
    "plot(x,y)"
   ]
  },
  {
   "cell_type": "code",
   "execution_count": 4,
   "metadata": {},
   "outputs": [
    {
     "name": "stderr",
     "output_type": "stream",
     "text": [
      "\u001b[32m\u001b[1m  Resolving\u001b[22m\u001b[39m package versions...\n",
      "\u001b[32m\u001b[1m  Installed\u001b[22m\u001b[39m Literate ────────── v2.6.0\n",
      "\u001b[32m\u001b[1m  Installed\u001b[22m\u001b[39m NodeJS ──────────── v1.1.1\n",
      "\u001b[32m\u001b[1m  Installed\u001b[22m\u001b[39m LiveServer ──────── v0.5.2\n",
      "\u001b[32m\u001b[1m  Installed\u001b[22m\u001b[39m Franklin ────────── v0.9.5\n",
      "\u001b[32m\u001b[1m  Installed\u001b[22m\u001b[39m FranklinTemplates ─ v0.7.2\n"
     ]
    },
    {
     "ename": "LoadError",
     "evalue": "KeyError: key \"Adapt\" not found",
     "output_type": "error",
     "traceback": [
      "KeyError: key \"Adapt\" not found",
      "",
      "Stacktrace:",
      " [1] getindex at .\\dict.jl:467 [inlined]",
      " [2] #37 at D:\\buildbot\\worker\\package_win64\\build\\usr\\share\\julia\\stdlib\\v1.5\\Pkg\\src\\manifest.jl:215 [inlined]",
      " [3] _all(::Pkg.Types.var\"#37#40\"{Dict{String,Bool}}, ::Dict{String,Base.UUID}, ::Colon) at .\\reduce.jl:828",
      " [4] all at .\\reduce.jl:823 [inlined]",
      " [5] destructure(::Dict{Base.UUID,Pkg.Types.PackageEntry}) at D:\\buildbot\\worker\\package_win64\\build\\usr\\share\\julia\\stdlib\\v1.5\\Pkg\\src\\manifest.jl:215",
      " [6] write_manifest at D:\\buildbot\\worker\\package_win64\\build\\usr\\share\\julia\\stdlib\\v1.5\\Pkg\\src\\manifest.jl:233 [inlined]",
      " [7] write_manifest at D:\\buildbot\\worker\\package_win64\\build\\usr\\share\\julia\\stdlib\\v1.5\\Pkg\\src\\manifest.jl:231 [inlined]",
      " [8] write_env(::Pkg.Types.EnvCache; update_undo::Bool) at D:\\buildbot\\worker\\package_win64\\build\\usr\\share\\julia\\stdlib\\v1.5\\Pkg\\src\\Types.jl:1367",
      " [9] write_env at D:\\buildbot\\worker\\package_win64\\build\\usr\\share\\julia\\stdlib\\v1.5\\Pkg\\src\\Types.jl:1366 [inlined]",
      " [10] add(::Pkg.Types.Context, ::Array{Pkg.Types.PackageSpec,1}, ::Array{Base.UUID,1}; preserve::Pkg.Types.PreserveLevel, platform::Pkg.BinaryPlatforms.Windows) at D:\\buildbot\\worker\\package_win64\\build\\usr\\share\\julia\\stdlib\\v1.5\\Pkg\\src\\Operations.jl:1136",
      " [11] add(::Pkg.Types.Context, ::Array{Pkg.Types.PackageSpec,1}; preserve::Pkg.Types.PreserveLevel, platform::Pkg.BinaryPlatforms.Windows, kwargs::Base.Iterators.Pairs{Union{},Union{},Tuple{},NamedTuple{(),Tuple{}}}) at D:\\buildbot\\worker\\package_win64\\build\\usr\\share\\julia\\stdlib\\v1.5\\Pkg\\src\\API.jl:189",
      " [12] add(::Pkg.Types.Context, ::Array{Pkg.Types.PackageSpec,1}) at D:\\buildbot\\worker\\package_win64\\build\\usr\\share\\julia\\stdlib\\v1.5\\Pkg\\src\\API.jl:140",
      " [13] #add#21 at D:\\buildbot\\worker\\package_win64\\build\\usr\\share\\julia\\stdlib\\v1.5\\Pkg\\src\\API.jl:67 [inlined]",
      " [14] add at D:\\buildbot\\worker\\package_win64\\build\\usr\\share\\julia\\stdlib\\v1.5\\Pkg\\src\\API.jl:67 [inlined]",
      " [15] #add#20 at D:\\buildbot\\worker\\package_win64\\build\\usr\\share\\julia\\stdlib\\v1.5\\Pkg\\src\\API.jl:66 [inlined]",
      " [16] add at D:\\buildbot\\worker\\package_win64\\build\\usr\\share\\julia\\stdlib\\v1.5\\Pkg\\src\\API.jl:66 [inlined]",
      " [17] add(::String; kwargs::Base.Iterators.Pairs{Union{},Union{},Tuple{},NamedTuple{(),Tuple{}}}) at D:\\buildbot\\worker\\package_win64\\build\\usr\\share\\julia\\stdlib\\v1.5\\Pkg\\src\\API.jl:65",
      " [18] add(::String) at D:\\buildbot\\worker\\package_win64\\build\\usr\\share\\julia\\stdlib\\v1.5\\Pkg\\src\\API.jl:65",
      " [19] top-level scope at In[4]:1",
      " [20] include_string(::Function, ::Module, ::String, ::String) at .\\loading.jl:1091"
     ]
    }
   ],
   "source": [
    "Pkg.add(\"Franklin\")\n",
    "using Franklin\n",
    "newsite(\"mySite\", template=\"pure-sm\")\n",
    "serve() # on localhost:8000"
   ]
  }
 ],
 "metadata": {
  "@webio": {
   "lastCommId": null,
   "lastKernelId": null
  },
  "kernelspec": {
   "display_name": "Julia 1.5.0",
   "language": "julia",
   "name": "julia-1.5"
  },
  "language_info": {
   "file_extension": ".jl",
   "mimetype": "application/julia",
   "name": "julia",
   "version": "1.5.0"
  }
 },
 "nbformat": 4,
 "nbformat_minor": 4
}
